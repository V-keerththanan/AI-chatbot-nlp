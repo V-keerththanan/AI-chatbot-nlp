{
 "cells": [
  {
   "cell_type": "code",
   "execution_count": 1,
   "metadata": {},
   "outputs": [],
   "source": [
    "import numpy as np\n",
    "import nltk\n",
    "import pandas as pd\n",
    "import json\n",
    "import re"
   ]
  },
  {
   "cell_type": "code",
   "execution_count": 2,
   "metadata": {},
   "outputs": [],
   "source": [
    "from nltk.stem import WordNetLemmatizer"
   ]
  },
  {
   "cell_type": "markdown",
   "metadata": {},
   "source": [
    "### Load data and preprocessing"
   ]
  },
  {
   "cell_type": "code",
   "execution_count": 3,
   "metadata": {},
   "outputs": [],
   "source": [
    "file=open('../intents.json')\n",
    "json_file=json.load(file)"
   ]
  },
  {
   "cell_type": "code",
   "execution_count": 4,
   "metadata": {},
   "outputs": [],
   "source": [
    "dictionary_tag_pattern={}\n",
    "dictionary_tag_response={}"
   ]
  },
  {
   "cell_type": "code",
   "execution_count": 5,
   "metadata": {},
   "outputs": [],
   "source": [
    "all_tags=list(set([dic['tag'].lower().strip() for dic in json_file['intents']]))"
   ]
  },
  {
   "cell_type": "code",
   "execution_count": 6,
   "metadata": {},
   "outputs": [
    {
     "data": {
      "text/plain": [
       "['greeting',\n",
       " 'cricket',\n",
       " 'noanswer',\n",
       " 'age',\n",
       " 'karan',\n",
       " 'google',\n",
       " 'identity',\n",
       " 'suggest',\n",
       " 'datetime',\n",
       " 'news',\n",
       " 'weather',\n",
       " 'insult',\n",
       " 'options',\n",
       " 'exclaim',\n",
       " 'contact',\n",
       " 'appreciate',\n",
       " 'jokes',\n",
       " 'haha',\n",
       " 'no',\n",
       " 'thanks',\n",
       " 'timer',\n",
       " 'nicetty',\n",
       " 'covid19',\n",
       " 'greetreply',\n",
       " 'programmer',\n",
       " 'song',\n",
       " 'activity',\n",
       " 'whatsup',\n",
       " 'inspire',\n",
       " 'goodbye',\n",
       " 'riddle']"
      ]
     },
     "execution_count": 6,
     "metadata": {},
     "output_type": "execute_result"
    }
   ],
   "source": [
    "all_tags"
   ]
  },
  {
   "cell_type": "code",
   "execution_count": 7,
   "metadata": {},
   "outputs": [],
   "source": [
    "for tag in all_tags:\n",
    "    dictionary_tag_pattern[tag]=[]\n",
    "    dictionary_tag_response[tag]=[]"
   ]
  },
  {
   "cell_type": "code",
   "execution_count": 8,
   "metadata": {},
   "outputs": [],
   "source": [
    "for dic in json_file['intents']:\n",
    "    tag=dic['tag'].lower().strip()\n",
    "    \n",
    "    for pattern in dic['patterns']:\n",
    "        dictionary_tag_pattern[tag].append(pattern)\n",
    "    for response in dic['responses']:\n",
    "        dictionary_tag_response[tag].append(response)\n",
    "    "
   ]
  },
  {
   "cell_type": "code",
   "execution_count": 9,
   "metadata": {},
   "outputs": [],
   "source": [
    "DataF=pd.DataFrame(columns=['pattern','tag'])"
   ]
  },
  {
   "cell_type": "code",
   "execution_count": 10,
   "metadata": {},
   "outputs": [],
   "source": [
    "for tag in dictionary_tag_pattern.keys():\n",
    "    for pattern in dictionary_tag_pattern[tag]:\n",
    "        DataF.loc[len(DataF.index)]=[pattern,tag]"
   ]
  },
  {
   "cell_type": "code",
   "execution_count": 11,
   "metadata": {},
   "outputs": [
    {
     "data": {
      "text/html": [
       "<div>\n",
       "<style scoped>\n",
       "    .dataframe tbody tr th:only-of-type {\n",
       "        vertical-align: middle;\n",
       "    }\n",
       "\n",
       "    .dataframe tbody tr th {\n",
       "        vertical-align: top;\n",
       "    }\n",
       "\n",
       "    .dataframe thead th {\n",
       "        text-align: right;\n",
       "    }\n",
       "</style>\n",
       "<table border=\"1\" class=\"dataframe\">\n",
       "  <thead>\n",
       "    <tr style=\"text-align: right;\">\n",
       "      <th></th>\n",
       "      <th>pattern</th>\n",
       "      <th>tag</th>\n",
       "    </tr>\n",
       "  </thead>\n",
       "  <tbody>\n",
       "    <tr>\n",
       "      <th>0</th>\n",
       "      <td>Hi there</td>\n",
       "      <td>greeting</td>\n",
       "    </tr>\n",
       "    <tr>\n",
       "      <th>1</th>\n",
       "      <td>How are you</td>\n",
       "      <td>greeting</td>\n",
       "    </tr>\n",
       "    <tr>\n",
       "      <th>2</th>\n",
       "      <td>Is anyone there?</td>\n",
       "      <td>greeting</td>\n",
       "    </tr>\n",
       "    <tr>\n",
       "      <th>3</th>\n",
       "      <td>Hey</td>\n",
       "      <td>greeting</td>\n",
       "    </tr>\n",
       "    <tr>\n",
       "      <th>4</th>\n",
       "      <td>Hola</td>\n",
       "      <td>greeting</td>\n",
       "    </tr>\n",
       "    <tr>\n",
       "      <th>5</th>\n",
       "      <td>Hello</td>\n",
       "      <td>greeting</td>\n",
       "    </tr>\n",
       "    <tr>\n",
       "      <th>6</th>\n",
       "      <td>Good day</td>\n",
       "      <td>greeting</td>\n",
       "    </tr>\n",
       "    <tr>\n",
       "      <th>7</th>\n",
       "      <td>Namaste</td>\n",
       "      <td>greeting</td>\n",
       "    </tr>\n",
       "    <tr>\n",
       "      <th>8</th>\n",
       "      <td>yo</td>\n",
       "      <td>greeting</td>\n",
       "    </tr>\n",
       "    <tr>\n",
       "      <th>9</th>\n",
       "      <td>current cricket matches</td>\n",
       "      <td>cricket</td>\n",
       "    </tr>\n",
       "  </tbody>\n",
       "</table>\n",
       "</div>"
      ],
      "text/plain": [
       "                   pattern       tag\n",
       "0                 Hi there  greeting\n",
       "1              How are you  greeting\n",
       "2         Is anyone there?  greeting\n",
       "3                      Hey  greeting\n",
       "4                     Hola  greeting\n",
       "5                    Hello  greeting\n",
       "6                 Good day  greeting\n",
       "7                  Namaste  greeting\n",
       "8                       yo  greeting\n",
       "9  current cricket matches   cricket"
      ]
     },
     "execution_count": 11,
     "metadata": {},
     "output_type": "execute_result"
    }
   ],
   "source": [
    "DataF.head(10)"
   ]
  },
  {
   "cell_type": "code",
   "execution_count": 12,
   "metadata": {},
   "outputs": [],
   "source": [
    "X=DataF['pattern'].values\n",
    "Y=DataF['tag'].values"
   ]
  },
  {
   "cell_type": "code",
   "execution_count": 13,
   "metadata": {},
   "outputs": [],
   "source": [
    "def cleanText(text:str)->str:\n",
    "    wordlem=WordNetLemmatizer()\n",
    "    clenanedText=''\n",
    "    pattern1=r'[^A-Za-z\\s]'\n",
    "    pattern2=r'\\s+'\n",
    "    text=text.lower().strip()\n",
    "    text=re.sub(pattern1,'',text)\n",
    "    text=re.sub(pattern2,' ',text)\n",
    "    for word in text.split():\n",
    "        word=wordlem.lemmatize(word,pos='v')\n",
    "        clenanedText=clenanedText+word+\" \"\n",
    "    clenanedText=clenanedText.strip()\n",
    "    return clenanedText"
   ]
  },
  {
   "cell_type": "code",
   "execution_count": 14,
   "metadata": {},
   "outputs": [],
   "source": [
    "cleandedX=[]\n",
    "for sen in X:\n",
    "    cleandedX.append(cleanText(sen))"
   ]
  },
  {
   "cell_type": "code",
   "execution_count": 15,
   "metadata": {},
   "outputs": [
    {
     "data": {
      "text/plain": [
       "['hi there',\n",
       " 'how be you',\n",
       " 'be anyone there',\n",
       " 'hey',\n",
       " 'hola',\n",
       " 'hello',\n",
       " 'good day',\n",
       " 'namaste',\n",
       " 'yo',\n",
       " 'current cricket match',\n",
       " 'cricket score',\n",
       " 'how old be you',\n",
       " 'when be you make',\n",
       " 'what be your age',\n",
       " 'who be he',\n",
       " 'who be that',\n",
       " 'who be karan',\n",
       " 'karan malik',\n",
       " 'google',\n",
       " 'search',\n",
       " 'internet',\n",
       " 'who be you',\n",
       " 'what be you',\n",
       " 'you be useless',\n",
       " 'useless',\n",
       " 'suggest',\n",
       " 'suggestions',\n",
       " 'you be bad',\n",
       " 'what be the time',\n",
       " 'what be the date',\n",
       " 'date',\n",
       " 'time',\n",
       " 'tell me the date',\n",
       " 'day',\n",
       " 'what day be be today',\n",
       " 'news',\n",
       " 'latest news',\n",
       " 'india news',\n",
       " 'temperature',\n",
       " 'weather',\n",
       " 'how hot be it',\n",
       " 'you be dumb',\n",
       " 'shut up',\n",
       " 'idiot',\n",
       " 'how you could help me',\n",
       " 'what you can do',\n",
       " 'what help you provide',\n",
       " 'how you can be helpful',\n",
       " 'what support be offer',\n",
       " 'awesome',\n",
       " 'great',\n",
       " 'i know',\n",
       " 'ok',\n",
       " 'yeah',\n",
       " 'contact developer',\n",
       " 'contact karan',\n",
       " 'contact programmer',\n",
       " 'contact creator',\n",
       " 'you be awesome',\n",
       " 'you be the best',\n",
       " 'you be great',\n",
       " 'you be good',\n",
       " 'tell me a joke',\n",
       " 'joke',\n",
       " 'make me laugh',\n",
       " 'haha',\n",
       " 'lol',\n",
       " 'rofl',\n",
       " 'lmao',\n",
       " 'thats funny',\n",
       " 'no',\n",
       " 'nope',\n",
       " 'thank',\n",
       " 'thank you',\n",
       " 'thats helpful',\n",
       " 'awesome thank',\n",
       " 'thank for help me',\n",
       " 'set a timer',\n",
       " 'it be nice talk to you',\n",
       " 'good talk',\n",
       " 'covid',\n",
       " 'i be good',\n",
       " 'im good',\n",
       " 'i be fine',\n",
       " 'im fine',\n",
       " 'good',\n",
       " 'who make you',\n",
       " 'who design you',\n",
       " 'who program you',\n",
       " 'top songs',\n",
       " 'best songs',\n",
       " 'hot songs',\n",
       " 'top songs',\n",
       " 'top ten songs',\n",
       " 'what be you do',\n",
       " 'what be you upto',\n",
       " 'whats up',\n",
       " 'wazzup',\n",
       " 'how be you',\n",
       " 'sup',\n",
       " 'how you do',\n",
       " 'who inspire you',\n",
       " 'who be your inspiration',\n",
       " 'who motivate you',\n",
       " 'bye',\n",
       " 'see you later',\n",
       " 'goodbye',\n",
       " 'get lose',\n",
       " 'till next time',\n",
       " 'bbye',\n",
       " 'ask me a riddle',\n",
       " 'ask me a question',\n",
       " 'riddle']"
      ]
     },
     "execution_count": 15,
     "metadata": {},
     "output_type": "execute_result"
    }
   ],
   "source": [
    "cleandedX"
   ]
  },
  {
   "cell_type": "markdown",
   "metadata": {},
   "source": [
    "#### Encoding the target variable and create a vector space for training data"
   ]
  },
  {
   "cell_type": "code",
   "execution_count": 16,
   "metadata": {},
   "outputs": [],
   "source": [
    "from sklearn.preprocessing import LabelEncoder\n",
    "from sklearn.feature_extraction.text import TfidfVectorizer"
   ]
  },
  {
   "cell_type": "code",
   "execution_count": 17,
   "metadata": {},
   "outputs": [],
   "source": [
    "X=np.array(X)\n",
    "Y=np.array(Y)"
   ]
  },
  {
   "cell_type": "code",
   "execution_count": 18,
   "metadata": {},
   "outputs": [
    {
     "data": {
      "text/plain": [
       "array(['greeting', 'greeting', 'greeting', 'greeting', 'greeting',\n",
       "       'greeting', 'greeting', 'greeting', 'greeting', 'cricket',\n",
       "       'cricket', 'age', 'age', 'age', 'karan', 'karan', 'karan', 'karan',\n",
       "       'google', 'google', 'google', 'identity', 'identity', 'suggest',\n",
       "       'suggest', 'suggest', 'suggest', 'suggest', 'datetime', 'datetime',\n",
       "       'datetime', 'datetime', 'datetime', 'datetime', 'datetime', 'news',\n",
       "       'news', 'news', 'weather', 'weather', 'weather', 'insult',\n",
       "       'insult', 'insult', 'options', 'options', 'options', 'options',\n",
       "       'options', 'exclaim', 'exclaim', 'exclaim', 'exclaim', 'exclaim',\n",
       "       'contact', 'contact', 'contact', 'contact', 'appreciate',\n",
       "       'appreciate', 'appreciate', 'appreciate', 'jokes', 'jokes',\n",
       "       'jokes', 'haha', 'haha', 'haha', 'haha', 'haha', 'no', 'no',\n",
       "       'thanks', 'thanks', 'thanks', 'thanks', 'thanks', 'timer',\n",
       "       'nicetty', 'nicetty', 'covid19', 'greetreply', 'greetreply',\n",
       "       'greetreply', 'greetreply', 'greetreply', 'programmer',\n",
       "       'programmer', 'programmer', 'song', 'song', 'song', 'song', 'song',\n",
       "       'activity', 'activity', 'whatsup', 'whatsup', 'whatsup', 'whatsup',\n",
       "       'whatsup', 'inspire', 'inspire', 'inspire', 'goodbye', 'goodbye',\n",
       "       'goodbye', 'goodbye', 'goodbye', 'goodbye', 'riddle', 'riddle',\n",
       "       'riddle'], dtype=object)"
      ]
     },
     "execution_count": 18,
     "metadata": {},
     "output_type": "execute_result"
    }
   ],
   "source": [
    "Y"
   ]
  },
  {
   "cell_type": "code",
   "execution_count": 19,
   "metadata": {},
   "outputs": [],
   "source": [
    "Encoder=LabelEncoder()\n",
    "encodedY=Encoder.fit_transform(Y)"
   ]
  },
  {
   "cell_type": "code",
   "execution_count": 20,
   "metadata": {},
   "outputs": [
    {
     "data": {
      "text/html": [
       "<style>#sk-container-id-1 {color: black;background-color: white;}#sk-container-id-1 pre{padding: 0;}#sk-container-id-1 div.sk-toggleable {background-color: white;}#sk-container-id-1 label.sk-toggleable__label {cursor: pointer;display: block;width: 100%;margin-bottom: 0;padding: 0.3em;box-sizing: border-box;text-align: center;}#sk-container-id-1 label.sk-toggleable__label-arrow:before {content: \"▸\";float: left;margin-right: 0.25em;color: #696969;}#sk-container-id-1 label.sk-toggleable__label-arrow:hover:before {color: black;}#sk-container-id-1 div.sk-estimator:hover label.sk-toggleable__label-arrow:before {color: black;}#sk-container-id-1 div.sk-toggleable__content {max-height: 0;max-width: 0;overflow: hidden;text-align: left;background-color: #f0f8ff;}#sk-container-id-1 div.sk-toggleable__content pre {margin: 0.2em;color: black;border-radius: 0.25em;background-color: #f0f8ff;}#sk-container-id-1 input.sk-toggleable__control:checked~div.sk-toggleable__content {max-height: 200px;max-width: 100%;overflow: auto;}#sk-container-id-1 input.sk-toggleable__control:checked~label.sk-toggleable__label-arrow:before {content: \"▾\";}#sk-container-id-1 div.sk-estimator input.sk-toggleable__control:checked~label.sk-toggleable__label {background-color: #d4ebff;}#sk-container-id-1 div.sk-label input.sk-toggleable__control:checked~label.sk-toggleable__label {background-color: #d4ebff;}#sk-container-id-1 input.sk-hidden--visually {border: 0;clip: rect(1px 1px 1px 1px);clip: rect(1px, 1px, 1px, 1px);height: 1px;margin: -1px;overflow: hidden;padding: 0;position: absolute;width: 1px;}#sk-container-id-1 div.sk-estimator {font-family: monospace;background-color: #f0f8ff;border: 1px dotted black;border-radius: 0.25em;box-sizing: border-box;margin-bottom: 0.5em;}#sk-container-id-1 div.sk-estimator:hover {background-color: #d4ebff;}#sk-container-id-1 div.sk-parallel-item::after {content: \"\";width: 100%;border-bottom: 1px solid gray;flex-grow: 1;}#sk-container-id-1 div.sk-label:hover label.sk-toggleable__label {background-color: #d4ebff;}#sk-container-id-1 div.sk-serial::before {content: \"\";position: absolute;border-left: 1px solid gray;box-sizing: border-box;top: 0;bottom: 0;left: 50%;z-index: 0;}#sk-container-id-1 div.sk-serial {display: flex;flex-direction: column;align-items: center;background-color: white;padding-right: 0.2em;padding-left: 0.2em;position: relative;}#sk-container-id-1 div.sk-item {position: relative;z-index: 1;}#sk-container-id-1 div.sk-parallel {display: flex;align-items: stretch;justify-content: center;background-color: white;position: relative;}#sk-container-id-1 div.sk-item::before, #sk-container-id-1 div.sk-parallel-item::before {content: \"\";position: absolute;border-left: 1px solid gray;box-sizing: border-box;top: 0;bottom: 0;left: 50%;z-index: -1;}#sk-container-id-1 div.sk-parallel-item {display: flex;flex-direction: column;z-index: 1;position: relative;background-color: white;}#sk-container-id-1 div.sk-parallel-item:first-child::after {align-self: flex-end;width: 50%;}#sk-container-id-1 div.sk-parallel-item:last-child::after {align-self: flex-start;width: 50%;}#sk-container-id-1 div.sk-parallel-item:only-child::after {width: 0;}#sk-container-id-1 div.sk-dashed-wrapped {border: 1px dashed gray;margin: 0 0.4em 0.5em 0.4em;box-sizing: border-box;padding-bottom: 0.4em;background-color: white;}#sk-container-id-1 div.sk-label label {font-family: monospace;font-weight: bold;display: inline-block;line-height: 1.2em;}#sk-container-id-1 div.sk-label-container {text-align: center;}#sk-container-id-1 div.sk-container {/* jupyter's `normalize.less` sets `[hidden] { display: none; }` but bootstrap.min.css set `[hidden] { display: none !important; }` so we also need the `!important` here to be able to override the default hidden behavior on the sphinx rendered scikit-learn.org. See: https://github.com/scikit-learn/scikit-learn/issues/21755 */display: inline-block !important;position: relative;}#sk-container-id-1 div.sk-text-repr-fallback {display: none;}</style><div id=\"sk-container-id-1\" class=\"sk-top-container\"><div class=\"sk-text-repr-fallback\"><pre>TfidfVectorizer()</pre><b>In a Jupyter environment, please rerun this cell to show the HTML representation or trust the notebook. <br />On GitHub, the HTML representation is unable to render, please try loading this page with nbviewer.org.</b></div><div class=\"sk-container\" hidden><div class=\"sk-item\"><div class=\"sk-estimator sk-toggleable\"><input class=\"sk-toggleable__control sk-hidden--visually\" id=\"sk-estimator-id-1\" type=\"checkbox\" checked><label for=\"sk-estimator-id-1\" class=\"sk-toggleable__label sk-toggleable__label-arrow\">TfidfVectorizer</label><div class=\"sk-toggleable__content\"><pre>TfidfVectorizer()</pre></div></div></div></div></div>"
      ],
      "text/plain": [
       "TfidfVectorizer()"
      ]
     },
     "execution_count": 20,
     "metadata": {},
     "output_type": "execute_result"
    }
   ],
   "source": [
    "tfIdf=TfidfVectorizer()\n",
    "tfIdf.fit(X)"
   ]
  },
  {
   "cell_type": "code",
   "execution_count": 21,
   "metadata": {},
   "outputs": [],
   "source": [
    "vectorizedX=tfIdf.transform(X)"
   ]
  },
  {
   "cell_type": "code",
   "execution_count": 22,
   "metadata": {},
   "outputs": [
    {
     "name": "stderr",
     "output_type": "stream",
     "text": [
      "c:\\Users\\Keerththanan\\MYPROGRAM\\lib\\site-packages\\sklearn\\utils\\deprecation.py:87: FutureWarning: Function get_feature_names is deprecated; get_feature_names is deprecated in 1.0 and will be removed in 1.2. Please use get_feature_names_out instead.\n",
      "  warnings.warn(msg, category=FutureWarning)\n"
     ]
    },
    {
     "data": {
      "text/plain": [
       "['10',\n",
       " '19',\n",
       " 'age',\n",
       " 'am',\n",
       " 'anyone',\n",
       " 'are',\n",
       " 'ask',\n",
       " 'awesome',\n",
       " 'bad',\n",
       " 'bbye',\n",
       " 'be',\n",
       " 'best',\n",
       " 'bye',\n",
       " 'can',\n",
       " 'contact',\n",
       " 'could',\n",
       " 'covid',\n",
       " 'creator',\n",
       " 'cricket',\n",
       " 'current',\n",
       " 'date',\n",
       " 'day',\n",
       " 'designed',\n",
       " 'developer',\n",
       " 'do',\n",
       " 'doing',\n",
       " 'dumb',\n",
       " 'fine',\n",
       " 'for',\n",
       " 'funny',\n",
       " 'get',\n",
       " 'good',\n",
       " 'goodbye',\n",
       " 'google',\n",
       " 'great',\n",
       " 'haha',\n",
       " 'he',\n",
       " 'hello',\n",
       " 'help',\n",
       " 'helpful',\n",
       " 'helping',\n",
       " 'hey',\n",
       " 'hi',\n",
       " 'hola',\n",
       " 'hot',\n",
       " 'how',\n",
       " 'idiot',\n",
       " 'india',\n",
       " 'inspiration',\n",
       " 'inspires',\n",
       " 'internet',\n",
       " 'is',\n",
       " 'it',\n",
       " 'joke',\n",
       " 'karan',\n",
       " 'know',\n",
       " 'later',\n",
       " 'latest',\n",
       " 'laugh',\n",
       " 'lmao',\n",
       " 'lol',\n",
       " 'lost',\n",
       " 'made',\n",
       " 'make',\n",
       " 'malik',\n",
       " 'matches',\n",
       " 'me',\n",
       " 'motivates',\n",
       " 'namaste',\n",
       " 'news',\n",
       " 'next',\n",
       " 'nice',\n",
       " 'no',\n",
       " 'nope',\n",
       " 'offered',\n",
       " 'ok',\n",
       " 'old',\n",
       " 'programmed',\n",
       " 'programmer',\n",
       " 'provide',\n",
       " 'question',\n",
       " 'riddle',\n",
       " 'rofl',\n",
       " 'score',\n",
       " 'search',\n",
       " 'see',\n",
       " 'set',\n",
       " 'shut',\n",
       " 'songs',\n",
       " 'suggest',\n",
       " 'suggestions',\n",
       " 'sup',\n",
       " 'support',\n",
       " 'talk',\n",
       " 'talking',\n",
       " 'tell',\n",
       " 'temperature',\n",
       " 'ten',\n",
       " 'thank',\n",
       " 'thanks',\n",
       " 'that',\n",
       " 'thats',\n",
       " 'the',\n",
       " 'there',\n",
       " 'till',\n",
       " 'time',\n",
       " 'timer',\n",
       " 'to',\n",
       " 'today',\n",
       " 'top',\n",
       " 'up',\n",
       " 'upto',\n",
       " 'useless',\n",
       " 'was',\n",
       " 'wazzup',\n",
       " 'weather',\n",
       " 'were',\n",
       " 'what',\n",
       " 'whats',\n",
       " 'when',\n",
       " 'who',\n",
       " 'yeah',\n",
       " 'yo',\n",
       " 'you',\n",
       " 'your']"
      ]
     },
     "execution_count": 22,
     "metadata": {},
     "output_type": "execute_result"
    }
   ],
   "source": [
    "tfIdf.get_feature_names()"
   ]
  },
  {
   "cell_type": "markdown",
   "metadata": {},
   "source": [
    "#### machine learning model creation and parameter tuning "
   ]
  },
  {
   "cell_type": "code",
   "execution_count": 23,
   "metadata": {},
   "outputs": [],
   "source": [
    "from sklearn.ensemble import RandomForestClassifier\n",
    "from sklearn.model_selection import cross_val_score,GridSearchCV"
   ]
  },
  {
   "cell_type": "code",
   "execution_count": 24,
   "metadata": {},
   "outputs": [
    {
     "name": "stderr",
     "output_type": "stream",
     "text": [
      "c:\\Users\\Keerththanan\\MYPROGRAM\\lib\\site-packages\\sklearn\\model_selection\\_split.py:684: UserWarning: The least populated class in y has only 1 members, which is less than n_splits=4.\n",
      "  warnings.warn(\n"
     ]
    }
   ],
   "source": [
    "randomForestModel=RandomForestClassifier()\n",
    "score=cross_val_score(randomForestModel,vectorizedX,encodedY,cv=4)"
   ]
  },
  {
   "cell_type": "code",
   "execution_count": 25,
   "metadata": {},
   "outputs": [
    {
     "data": {
      "text/plain": [
       "array([0.51724138, 0.39285714, 0.32142857, 0.28571429])"
      ]
     },
     "execution_count": 25,
     "metadata": {},
     "output_type": "execute_result"
    }
   ],
   "source": [
    "score"
   ]
  },
  {
   "cell_type": "code",
   "execution_count": 26,
   "metadata": {},
   "outputs": [],
   "source": [
    "param_grid = {  'bootstrap': [True,False], 'max_depth': [5, 10, 15], 'max_features': ['auto', 'log2'], 'n_estimators': [5, 6, 7, 8, 9, 10, 11, 12, 13, 15,20,25,40]}\n",
    "\n",
    "gridSearch=GridSearchCV(randomForestModel,param_grid)"
   ]
  },
  {
   "cell_type": "code",
   "execution_count": null,
   "metadata": {},
   "outputs": [],
   "source": [
    "gridSearch.fit(vectorizedX,encodedY)"
   ]
  },
  {
   "cell_type": "code",
   "execution_count": 28,
   "metadata": {},
   "outputs": [
    {
     "data": {
      "text/plain": [
       "0.4320158102766799"
      ]
     },
     "execution_count": 28,
     "metadata": {},
     "output_type": "execute_result"
    }
   ],
   "source": [
    "gridSearch.best_score_"
   ]
  },
  {
   "cell_type": "code",
   "execution_count": 29,
   "metadata": {},
   "outputs": [
    {
     "data": {
      "text/html": [
       "<style>#sk-container-id-3 {color: black;background-color: white;}#sk-container-id-3 pre{padding: 0;}#sk-container-id-3 div.sk-toggleable {background-color: white;}#sk-container-id-3 label.sk-toggleable__label {cursor: pointer;display: block;width: 100%;margin-bottom: 0;padding: 0.3em;box-sizing: border-box;text-align: center;}#sk-container-id-3 label.sk-toggleable__label-arrow:before {content: \"▸\";float: left;margin-right: 0.25em;color: #696969;}#sk-container-id-3 label.sk-toggleable__label-arrow:hover:before {color: black;}#sk-container-id-3 div.sk-estimator:hover label.sk-toggleable__label-arrow:before {color: black;}#sk-container-id-3 div.sk-toggleable__content {max-height: 0;max-width: 0;overflow: hidden;text-align: left;background-color: #f0f8ff;}#sk-container-id-3 div.sk-toggleable__content pre {margin: 0.2em;color: black;border-radius: 0.25em;background-color: #f0f8ff;}#sk-container-id-3 input.sk-toggleable__control:checked~div.sk-toggleable__content {max-height: 200px;max-width: 100%;overflow: auto;}#sk-container-id-3 input.sk-toggleable__control:checked~label.sk-toggleable__label-arrow:before {content: \"▾\";}#sk-container-id-3 div.sk-estimator input.sk-toggleable__control:checked~label.sk-toggleable__label {background-color: #d4ebff;}#sk-container-id-3 div.sk-label input.sk-toggleable__control:checked~label.sk-toggleable__label {background-color: #d4ebff;}#sk-container-id-3 input.sk-hidden--visually {border: 0;clip: rect(1px 1px 1px 1px);clip: rect(1px, 1px, 1px, 1px);height: 1px;margin: -1px;overflow: hidden;padding: 0;position: absolute;width: 1px;}#sk-container-id-3 div.sk-estimator {font-family: monospace;background-color: #f0f8ff;border: 1px dotted black;border-radius: 0.25em;box-sizing: border-box;margin-bottom: 0.5em;}#sk-container-id-3 div.sk-estimator:hover {background-color: #d4ebff;}#sk-container-id-3 div.sk-parallel-item::after {content: \"\";width: 100%;border-bottom: 1px solid gray;flex-grow: 1;}#sk-container-id-3 div.sk-label:hover label.sk-toggleable__label {background-color: #d4ebff;}#sk-container-id-3 div.sk-serial::before {content: \"\";position: absolute;border-left: 1px solid gray;box-sizing: border-box;top: 0;bottom: 0;left: 50%;z-index: 0;}#sk-container-id-3 div.sk-serial {display: flex;flex-direction: column;align-items: center;background-color: white;padding-right: 0.2em;padding-left: 0.2em;position: relative;}#sk-container-id-3 div.sk-item {position: relative;z-index: 1;}#sk-container-id-3 div.sk-parallel {display: flex;align-items: stretch;justify-content: center;background-color: white;position: relative;}#sk-container-id-3 div.sk-item::before, #sk-container-id-3 div.sk-parallel-item::before {content: \"\";position: absolute;border-left: 1px solid gray;box-sizing: border-box;top: 0;bottom: 0;left: 50%;z-index: -1;}#sk-container-id-3 div.sk-parallel-item {display: flex;flex-direction: column;z-index: 1;position: relative;background-color: white;}#sk-container-id-3 div.sk-parallel-item:first-child::after {align-self: flex-end;width: 50%;}#sk-container-id-3 div.sk-parallel-item:last-child::after {align-self: flex-start;width: 50%;}#sk-container-id-3 div.sk-parallel-item:only-child::after {width: 0;}#sk-container-id-3 div.sk-dashed-wrapped {border: 1px dashed gray;margin: 0 0.4em 0.5em 0.4em;box-sizing: border-box;padding-bottom: 0.4em;background-color: white;}#sk-container-id-3 div.sk-label label {font-family: monospace;font-weight: bold;display: inline-block;line-height: 1.2em;}#sk-container-id-3 div.sk-label-container {text-align: center;}#sk-container-id-3 div.sk-container {/* jupyter's `normalize.less` sets `[hidden] { display: none; }` but bootstrap.min.css set `[hidden] { display: none !important; }` so we also need the `!important` here to be able to override the default hidden behavior on the sphinx rendered scikit-learn.org. See: https://github.com/scikit-learn/scikit-learn/issues/21755 */display: inline-block !important;position: relative;}#sk-container-id-3 div.sk-text-repr-fallback {display: none;}</style><div id=\"sk-container-id-3\" class=\"sk-top-container\"><div class=\"sk-text-repr-fallback\"><pre>RandomForestClassifier(max_depth=10, max_features=&#x27;auto&#x27;, n_estimators=40)</pre><b>In a Jupyter environment, please rerun this cell to show the HTML representation or trust the notebook. <br />On GitHub, the HTML representation is unable to render, please try loading this page with nbviewer.org.</b></div><div class=\"sk-container\" hidden><div class=\"sk-item\"><div class=\"sk-estimator sk-toggleable\"><input class=\"sk-toggleable__control sk-hidden--visually\" id=\"sk-estimator-id-5\" type=\"checkbox\" checked><label for=\"sk-estimator-id-5\" class=\"sk-toggleable__label sk-toggleable__label-arrow\">RandomForestClassifier</label><div class=\"sk-toggleable__content\"><pre>RandomForestClassifier(max_depth=10, max_features=&#x27;auto&#x27;, n_estimators=40)</pre></div></div></div></div></div>"
      ],
      "text/plain": [
       "RandomForestClassifier(max_depth=10, max_features='auto', n_estimators=40)"
      ]
     },
     "execution_count": 29,
     "metadata": {},
     "output_type": "execute_result"
    }
   ],
   "source": [
    "gridSearch.best_estimator_"
   ]
  },
  {
   "cell_type": "markdown",
   "metadata": {},
   "source": [
    "#### DeepLearning Model"
   ]
  },
  {
   "cell_type": "code",
   "execution_count": 30,
   "metadata": {},
   "outputs": [],
   "source": [
    "import tensorflow as tf"
   ]
  },
  {
   "cell_type": "code",
   "execution_count": 31,
   "metadata": {},
   "outputs": [],
   "source": [
    "oov_token='<OOV>'\n",
    "Tokenizer=tf.keras.preprocessing.text.Tokenizer(oov_token=oov_token)"
   ]
  },
  {
   "cell_type": "markdown",
   "metadata": {},
   "source": []
  },
  {
   "cell_type": "code",
   "execution_count": 69,
   "metadata": {},
   "outputs": [],
   "source": [
    "Tokenizer.fit_on_texts(cleandedX)"
   ]
  },
  {
   "cell_type": "code",
   "execution_count": 70,
   "metadata": {},
   "outputs": [
    {
     "data": {
      "text/plain": [
       "117"
      ]
     },
     "execution_count": 70,
     "metadata": {},
     "output_type": "execute_result"
    }
   ],
   "source": [
    "len(Tokenizer.word_index)"
   ]
  },
  {
   "cell_type": "code",
   "execution_count": 71,
   "metadata": {},
   "outputs": [],
   "source": [
    "TrainSeq=Tokenizer.texts_to_sequences(cleandedX)"
   ]
  },
  {
   "cell_type": "code",
   "execution_count": 72,
   "metadata": {},
   "outputs": [],
   "source": [
    "Trainpad=tf.keras.preprocessing.sequence.pad_sequences(TrainSeq,padding='post')"
   ]
  },
  {
   "cell_type": "code",
   "execution_count": 36,
   "metadata": {},
   "outputs": [
    {
     "data": {
      "text/plain": [
       "(113, 6)"
      ]
     },
     "execution_count": 36,
     "metadata": {},
     "output_type": "execute_result"
    }
   ],
   "source": [
    "Trainpad.shape"
   ]
  },
  {
   "cell_type": "code",
   "execution_count": 37,
   "metadata": {},
   "outputs": [],
   "source": [
    "deepModel=tf.keras.Sequential(\n",
    "[\n",
    "    tf.keras.layers.Embedding(len(Tokenizer.word_index)+1,32,input_length=Trainpad.shape[1]),\n",
    "    tf.keras.layers.Bidirectional(tf.keras.layers.LSTM(100,dropout=0.2,return_sequences=True)),\n",
    "    tf.keras.layers.Bidirectional(tf.keras.layers.LSTM(100,dropout=0.2,return_sequences=False)),\n",
    "    tf.keras.layers.Flatten(),\n",
    "    tf.keras.layers.Dense(50,activation='relu'),\n",
    "    tf.keras.layers.Dropout(0.01),\n",
    "    tf.keras.layers.Dense(20, activation = \"relu\"),\n",
    "    tf.keras.layers.Dense(31,activation='softmax')\n",
    "    \n",
    "])\n"
   ]
  },
  {
   "cell_type": "code",
   "execution_count": 38,
   "metadata": {},
   "outputs": [
    {
     "name": "stdout",
     "output_type": "stream",
     "text": [
      "Model: \"sequential\"\n",
      "_________________________________________________________________\n",
      " Layer (type)                Output Shape              Param #   \n",
      "=================================================================\n",
      " embedding (Embedding)       (None, 6, 32)             3776      \n",
      "                                                                 \n",
      " bidirectional (Bidirectiona  (None, 6, 200)           106400    \n",
      " l)                                                              \n",
      "                                                                 \n",
      " bidirectional_1 (Bidirectio  (None, 200)              240800    \n",
      " nal)                                                            \n",
      "                                                                 \n",
      " flatten (Flatten)           (None, 200)               0         \n",
      "                                                                 \n",
      " dense (Dense)               (None, 50)                10050     \n",
      "                                                                 \n",
      " dropout (Dropout)           (None, 50)                0         \n",
      "                                                                 \n",
      " dense_1 (Dense)             (None, 20)                1020      \n",
      "                                                                 \n",
      " dense_2 (Dense)             (None, 31)                651       \n",
      "                                                                 \n",
      "=================================================================\n",
      "Total params: 362,697\n",
      "Trainable params: 362,697\n",
      "Non-trainable params: 0\n",
      "_________________________________________________________________\n"
     ]
    }
   ],
   "source": [
    "deepModel.summary()"
   ]
  },
  {
   "cell_type": "code",
   "execution_count": 49,
   "metadata": {},
   "outputs": [],
   "source": [
    "deepModel.compile(optimizer='adam',loss='sparse_categorical_crossentropy',metrics=['accuracy'])"
   ]
  },
  {
   "cell_type": "code",
   "execution_count": 46,
   "metadata": {},
   "outputs": [],
   "source": [
    "encodedNY=np.array(encodedY)"
   ]
  },
  {
   "cell_type": "code",
   "execution_count": 47,
   "metadata": {},
   "outputs": [],
   "source": [
    "from sklearn.model_selection import train_test_split\n",
    "X_train,X_test,Y_train,Y_test=train_test_split(Trainpad,encodedNY,test_size=0.3,random_state=0)"
   ]
  },
  {
   "cell_type": "code",
   "execution_count": 51,
   "metadata": {},
   "outputs": [
    {
     "name": "stdout",
     "output_type": "stream",
     "text": [
      "Epoch 1/40\n",
      "4/4 [==============================] - 0s 16ms/step - loss: 0.2651 - accuracy: 0.9027\n",
      "Epoch 2/40\n",
      "4/4 [==============================] - 0s 16ms/step - loss: 0.1844 - accuracy: 0.9469\n",
      "Epoch 3/40\n",
      "4/4 [==============================] - 0s 19ms/step - loss: 0.1894 - accuracy: 0.9469\n",
      "Epoch 4/40\n",
      "4/4 [==============================] - 0s 16ms/step - loss: 0.1769 - accuracy: 0.9469\n",
      "Epoch 5/40\n",
      "4/4 [==============================] - 0s 16ms/step - loss: 0.3095 - accuracy: 0.8761\n",
      "Epoch 6/40\n",
      "4/4 [==============================] - 0s 17ms/step - loss: 0.2680 - accuracy: 0.9204\n",
      "Epoch 7/40\n",
      "4/4 [==============================] - 0s 19ms/step - loss: 0.2343 - accuracy: 0.9204\n",
      "Epoch 8/40\n",
      "4/4 [==============================] - 0s 16ms/step - loss: 0.1760 - accuracy: 0.9292\n",
      "Epoch 9/40\n",
      "4/4 [==============================] - 0s 19ms/step - loss: 0.1379 - accuracy: 0.9646\n",
      "Epoch 10/40\n",
      "4/4 [==============================] - 0s 16ms/step - loss: 0.1320 - accuracy: 0.9558\n",
      "Epoch 11/40\n",
      "4/4 [==============================] - 0s 16ms/step - loss: 0.1007 - accuracy: 0.9735\n",
      "Epoch 12/40\n",
      "4/4 [==============================] - 0s 17ms/step - loss: 0.0994 - accuracy: 0.9646\n",
      "Epoch 13/40\n",
      "4/4 [==============================] - 0s 19ms/step - loss: 0.0898 - accuracy: 0.9735\n",
      "Epoch 14/40\n",
      "4/4 [==============================] - 0s 16ms/step - loss: 0.1214 - accuracy: 0.9558\n",
      "Epoch 15/40\n",
      "4/4 [==============================] - 0s 19ms/step - loss: 0.0847 - accuracy: 0.9912\n",
      "Epoch 16/40\n",
      "4/4 [==============================] - 0s 16ms/step - loss: 0.1120 - accuracy: 0.9469\n",
      "Epoch 17/40\n",
      "4/4 [==============================] - 0s 17ms/step - loss: 0.0962 - accuracy: 0.9735\n",
      "Epoch 18/40\n",
      "4/4 [==============================] - 0s 16ms/step - loss: 0.1338 - accuracy: 0.9646\n",
      "Epoch 19/40\n",
      "4/4 [==============================] - 0s 17ms/step - loss: 0.0854 - accuracy: 0.9823\n",
      "Epoch 20/40\n",
      "4/4 [==============================] - 0s 18ms/step - loss: 0.1138 - accuracy: 0.9823\n",
      "Epoch 21/40\n",
      "4/4 [==============================] - 0s 17ms/step - loss: 0.1557 - accuracy: 0.9469\n",
      "Epoch 22/40\n",
      "4/4 [==============================] - 0s 19ms/step - loss: 0.0766 - accuracy: 0.9646\n",
      "Epoch 23/40\n",
      "4/4 [==============================] - 0s 16ms/step - loss: 0.0995 - accuracy: 0.9735\n",
      "Epoch 24/40\n",
      "4/4 [==============================] - 0s 19ms/step - loss: 0.1218 - accuracy: 0.9646\n",
      "Epoch 25/40\n",
      "4/4 [==============================] - 0s 16ms/step - loss: 0.1523 - accuracy: 0.9381\n",
      "Epoch 26/40\n",
      "4/4 [==============================] - 0s 19ms/step - loss: 0.0930 - accuracy: 0.9735\n",
      "Epoch 27/40\n",
      "4/4 [==============================] - 0s 16ms/step - loss: 0.1525 - accuracy: 0.9558\n",
      "Epoch 28/40\n",
      "4/4 [==============================] - 0s 17ms/step - loss: 0.0854 - accuracy: 0.9735\n",
      "Epoch 29/40\n",
      "4/4 [==============================] - 0s 16ms/step - loss: 0.1268 - accuracy: 0.9823\n",
      "Epoch 30/40\n",
      "4/4 [==============================] - 0s 16ms/step - loss: 0.1100 - accuracy: 0.9735\n",
      "Epoch 31/40\n",
      "4/4 [==============================] - 0s 17ms/step - loss: 0.0954 - accuracy: 0.9558\n",
      "Epoch 32/40\n",
      "4/4 [==============================] - 0s 17ms/step - loss: 0.1159 - accuracy: 0.9646\n",
      "Epoch 33/40\n",
      "4/4 [==============================] - 0s 19ms/step - loss: 0.0644 - accuracy: 0.9823\n",
      "Epoch 34/40\n",
      "4/4 [==============================] - 0s 16ms/step - loss: 0.1076 - accuracy: 0.9469\n",
      "Epoch 35/40\n",
      "4/4 [==============================] - 0s 17ms/step - loss: 0.0677 - accuracy: 0.9912\n",
      "Epoch 36/40\n",
      "4/4 [==============================] - 0s 17ms/step - loss: 0.0749 - accuracy: 0.9735\n",
      "Epoch 37/40\n",
      "4/4 [==============================] - 0s 16ms/step - loss: 0.0770 - accuracy: 0.9823\n",
      "Epoch 38/40\n",
      "4/4 [==============================] - 0s 19ms/step - loss: 0.0626 - accuracy: 0.9912\n",
      "Epoch 39/40\n",
      "4/4 [==============================] - 0s 22ms/step - loss: 0.1184 - accuracy: 0.9646\n",
      "Epoch 40/40\n",
      "4/4 [==============================] - 0s 20ms/step - loss: 0.0933 - accuracy: 0.9823\n"
     ]
    }
   ],
   "source": [
    "history=deepModel.fit(Trainpad,encodedNY,epochs=40)"
   ]
  },
  {
   "cell_type": "code",
   "execution_count": 52,
   "metadata": {},
   "outputs": [],
   "source": [
    "deepModel.save('deepModel.h5')"
   ]
  },
  {
   "cell_type": "markdown",
   "metadata": {},
   "source": [
    "#### Testing the model"
   ]
  },
  {
   "cell_type": "code",
   "execution_count": 92,
   "metadata": {},
   "outputs": [
    {
     "name": "stdout",
     "output_type": "stream",
     "text": [
      "1/1 [==============================] - 0s 24ms/step\n"
     ]
    },
    {
     "data": {
      "text/plain": [
       "array(['greeting'], dtype=object)"
      ]
     },
     "execution_count": 92,
     "metadata": {},
     "output_type": "execute_result"
    }
   ],
   "source": [
    "query=''\n",
    "query=cleanText(query)\n",
    "seq=Tokenizer.texts_to_sequences([query])\n",
    "padSeq=tf.keras.preprocessing.sequence.pad_sequences(seq,padding='post',maxlen=6)\n",
    "output=deepModel.predict(padSeq)\n",
    "Encoder.inverse_transform([output.argmax()])"
   ]
  },
  {
   "cell_type": "code",
   "execution_count": null,
   "metadata": {},
   "outputs": [],
   "source": []
  }
 ],
 "metadata": {
  "kernelspec": {
   "display_name": "Python 3.10.6 64-bit",
   "language": "python",
   "name": "python3"
  },
  "language_info": {
   "codemirror_mode": {
    "name": "ipython",
    "version": 3
   },
   "file_extension": ".py",
   "mimetype": "text/x-python",
   "name": "python",
   "nbconvert_exporter": "python",
   "pygments_lexer": "ipython3",
   "version": "3.10.6"
  },
  "orig_nbformat": 4,
  "vscode": {
   "interpreter": {
    "hash": "c2ac9b41fb94caaff876198161de83c314dee63f4c1e841674908f5c2c57d3c9"
   }
  }
 },
 "nbformat": 4,
 "nbformat_minor": 2
}
