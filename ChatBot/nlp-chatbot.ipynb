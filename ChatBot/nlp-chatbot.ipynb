{
 "cells": [
  {
   "cell_type": "code",
   "execution_count": 1,
   "metadata": {},
   "outputs": [],
   "source": [
    "import numpy as np\n",
    "import nltk\n",
    "import pandas as pd\n",
    "import json\n",
    "import re"
   ]
  },
  {
   "cell_type": "code",
   "execution_count": 2,
   "metadata": {},
   "outputs": [],
   "source": [
    "from nltk.stem import WordNetLemmatizer"
   ]
  },
  {
   "cell_type": "markdown",
   "metadata": {},
   "source": [
    "### Load data and preprocessing"
   ]
  },
  {
   "cell_type": "code",
   "execution_count": 3,
   "metadata": {},
   "outputs": [],
   "source": [
    "file=open('../intents.json')\n",
    "json_file=json.load(file)"
   ]
  },
  {
   "cell_type": "code",
   "execution_count": 4,
   "metadata": {},
   "outputs": [],
   "source": [
    "dictionary_tag_pattern={}\n",
    "dictionary_tag_response={}"
   ]
  },
  {
   "cell_type": "code",
   "execution_count": 5,
   "metadata": {},
   "outputs": [],
   "source": [
    "all_tags=list(set([dic['tag'].lower().strip() for dic in json_file['intents']]))"
   ]
  },
  {
   "cell_type": "code",
   "execution_count": 6,
   "metadata": {},
   "outputs": [
    {
     "data": {
      "text/plain": [
       "['inspire',\n",
       " 'age',\n",
       " 'identity',\n",
       " 'nicetty',\n",
       " 'noanswer',\n",
       " 'haha',\n",
       " 'datetime',\n",
       " 'whatsup',\n",
       " 'goodbye',\n",
       " 'appreciate',\n",
       " 'greeting',\n",
       " 'karan',\n",
       " 'contact',\n",
       " 'cricket',\n",
       " 'exclaim',\n",
       " 'song',\n",
       " 'insult',\n",
       " 'no',\n",
       " 'timer',\n",
       " 'greetreply',\n",
       " 'covid19',\n",
       " 'activity',\n",
       " 'options',\n",
       " 'google',\n",
       " 'news',\n",
       " 'weather',\n",
       " 'programmer',\n",
       " 'riddle',\n",
       " 'thanks',\n",
       " 'suggest',\n",
       " 'jokes']"
      ]
     },
     "execution_count": 6,
     "metadata": {},
     "output_type": "execute_result"
    }
   ],
   "source": [
    "all_tags"
   ]
  },
  {
   "cell_type": "code",
   "execution_count": 7,
   "metadata": {},
   "outputs": [],
   "source": [
    "for tag in all_tags:\n",
    "    dictionary_tag_pattern[tag]=[]\n",
    "    dictionary_tag_response[tag]=[]"
   ]
  },
  {
   "cell_type": "code",
   "execution_count": 8,
   "metadata": {},
   "outputs": [],
   "source": [
    "for dic in json_file['intents']:\n",
    "    tag=dic['tag'].lower().strip()\n",
    "    \n",
    "    for pattern in dic['patterns']:\n",
    "        dictionary_tag_pattern[tag].append(pattern)\n",
    "    for response in dic['responses']:\n",
    "        dictionary_tag_response[tag].append(response)\n",
    "    "
   ]
  },
  {
   "cell_type": "code",
   "execution_count": 9,
   "metadata": {},
   "outputs": [],
   "source": [
    "DataF=pd.DataFrame(columns=['pattern','tag'])"
   ]
  },
  {
   "cell_type": "code",
   "execution_count": 10,
   "metadata": {},
   "outputs": [],
   "source": [
    "for tag in dictionary_tag_pattern.keys():\n",
    "    for pattern in dictionary_tag_pattern[tag]:\n",
    "        DataF.loc[len(DataF.index)]=[pattern,tag]"
   ]
  },
  {
   "cell_type": "code",
   "execution_count": 11,
   "metadata": {},
   "outputs": [
    {
     "data": {
      "text/html": [
       "<div>\n",
       "<style scoped>\n",
       "    .dataframe tbody tr th:only-of-type {\n",
       "        vertical-align: middle;\n",
       "    }\n",
       "\n",
       "    .dataframe tbody tr th {\n",
       "        vertical-align: top;\n",
       "    }\n",
       "\n",
       "    .dataframe thead th {\n",
       "        text-align: right;\n",
       "    }\n",
       "</style>\n",
       "<table border=\"1\" class=\"dataframe\">\n",
       "  <thead>\n",
       "    <tr style=\"text-align: right;\">\n",
       "      <th></th>\n",
       "      <th>pattern</th>\n",
       "      <th>tag</th>\n",
       "    </tr>\n",
       "  </thead>\n",
       "  <tbody>\n",
       "    <tr>\n",
       "      <th>0</th>\n",
       "      <td>who inspires you</td>\n",
       "      <td>inspire</td>\n",
       "    </tr>\n",
       "    <tr>\n",
       "      <th>1</th>\n",
       "      <td>who is your inspiration</td>\n",
       "      <td>inspire</td>\n",
       "    </tr>\n",
       "    <tr>\n",
       "      <th>2</th>\n",
       "      <td>who motivates you</td>\n",
       "      <td>inspire</td>\n",
       "    </tr>\n",
       "    <tr>\n",
       "      <th>3</th>\n",
       "      <td>how old are you</td>\n",
       "      <td>age</td>\n",
       "    </tr>\n",
       "    <tr>\n",
       "      <th>4</th>\n",
       "      <td>when were you made</td>\n",
       "      <td>age</td>\n",
       "    </tr>\n",
       "    <tr>\n",
       "      <th>5</th>\n",
       "      <td>what is your age</td>\n",
       "      <td>age</td>\n",
       "    </tr>\n",
       "    <tr>\n",
       "      <th>6</th>\n",
       "      <td>Who are you</td>\n",
       "      <td>identity</td>\n",
       "    </tr>\n",
       "    <tr>\n",
       "      <th>7</th>\n",
       "      <td>what are you</td>\n",
       "      <td>identity</td>\n",
       "    </tr>\n",
       "    <tr>\n",
       "      <th>8</th>\n",
       "      <td>it was nice talking to you</td>\n",
       "      <td>nicetty</td>\n",
       "    </tr>\n",
       "    <tr>\n",
       "      <th>9</th>\n",
       "      <td>good talk</td>\n",
       "      <td>nicetty</td>\n",
       "    </tr>\n",
       "  </tbody>\n",
       "</table>\n",
       "</div>"
      ],
      "text/plain": [
       "                      pattern       tag\n",
       "0            who inspires you   inspire\n",
       "1     who is your inspiration   inspire\n",
       "2           who motivates you   inspire\n",
       "3             how old are you       age\n",
       "4          when were you made       age\n",
       "5            what is your age       age\n",
       "6                 Who are you  identity\n",
       "7                what are you  identity\n",
       "8  it was nice talking to you   nicetty\n",
       "9                   good talk   nicetty"
      ]
     },
     "execution_count": 11,
     "metadata": {},
     "output_type": "execute_result"
    }
   ],
   "source": [
    "DataF.head(10)"
   ]
  },
  {
   "cell_type": "code",
   "execution_count": 12,
   "metadata": {},
   "outputs": [],
   "source": [
    "X=DataF['pattern'].values\n",
    "Y=DataF['tag'].values"
   ]
  },
  {
   "cell_type": "code",
   "execution_count": 13,
   "metadata": {},
   "outputs": [],
   "source": [
    "def cleanText(text:str)->str:\n",
    "    wordlem=WordNetLemmatizer()\n",
    "    clenanedText=''\n",
    "    pattern1=r'[^A-Za-z\\s]'\n",
    "    pattern2=r'\\s+'\n",
    "    text=text.lower().strip()\n",
    "    text=re.sub(pattern1,'',text)\n",
    "    text=re.sub(pattern2,' ',text)\n",
    "    for word in text.split():\n",
    "        word=wordlem.lemmatize(word,pos='v')\n",
    "        clenanedText=clenanedText+word+\" \"\n",
    "    clenanedText=clenanedText.strip()\n",
    "    return clenanedText"
   ]
  },
  {
   "cell_type": "code",
   "execution_count": 39,
   "metadata": {},
   "outputs": [],
   "source": [
    "cleandedX=[]\n",
    "cleandedXforWord2Vec=[]\n",
    "for sen in X:\n",
    "    cleandedX.append(cleanText(sen))\n",
    "    cleandedXforWord2Vec.append(cleanText(sen).split())"
   ]
  },
  {
   "cell_type": "code",
   "execution_count": null,
   "metadata": {},
   "outputs": [],
   "source": [
    "cleandedXforWord2Vec"
   ]
  },
  {
   "cell_type": "markdown",
   "metadata": {},
   "source": [
    "#### Encoding the target variable and create a vector space for training data"
   ]
  },
  {
   "cell_type": "code",
   "execution_count": 41,
   "metadata": {},
   "outputs": [],
   "source": [
    "from sklearn.preprocessing import LabelEncoder\n",
    "from sklearn.feature_extraction.text import TfidfVectorizer\n",
    "from gensim.models import Word2Vec"
   ]
  },
  {
   "cell_type": "code",
   "execution_count": 23,
   "metadata": {},
   "outputs": [],
   "source": [
    "X=np.array(X)\n",
    "Y=np.array(Y)"
   ]
  },
  {
   "attachments": {},
   "cell_type": "markdown",
   "metadata": {},
   "source": [
    "###### Encode using Word2Vec model"
   ]
  },
  {
   "cell_type": "code",
   "execution_count": 42,
   "metadata": {},
   "outputs": [],
   "source": [
    "Word2VecModel=Word2Vec(sentences=cleandedXforWord2Vec,min_count=1,vector_size=25)"
   ]
  },
  {
   "cell_type": "code",
   "execution_count": 47,
   "metadata": {},
   "outputs": [
    {
     "data": {
      "text/plain": [
       "[('ten', 0.5823303461074829), ('be', 0.5737924575805664)]"
      ]
     },
     "execution_count": 47,
     "metadata": {},
     "output_type": "execute_result"
    }
   ],
   "source": [
    "Word2VecModel.wv.similar_by_word('songs',topn=2)"
   ]
  },
  {
   "cell_type": "code",
   "execution_count": 78,
   "metadata": {},
   "outputs": [],
   "source": [
    "def sentToVec(sent):\n",
    "    size=Word2VecModel.wv.vector_size\n",
    "    numOfWords=0\n",
    "    vector=np.zeros(size)\n",
    "    for word in sent.split():\n",
    "        \n",
    "        try:\n",
    "            vector+=Word2VecModel.wv.get_vector(word)\n",
    "            numOfWords+=1\n",
    "        except KeyError:\n",
    "            vector=vector\n",
    "            numOfWords+=1\n",
    "        print(vector)\n",
    "    vector=vector/numOfWords\n",
    "    "
   ]
  },
  {
   "cell_type": "code",
   "execution_count": 30,
   "metadata": {},
   "outputs": [],
   "source": [
    "Encoder=LabelEncoder()\n",
    "encodedY=Encoder.fit_transform(Y)"
   ]
  },
  {
   "attachments": {},
   "cell_type": "markdown",
   "metadata": {},
   "source": [
    "###### Encode using TF-IDF"
   ]
  },
  {
   "cell_type": "code",
   "execution_count": 31,
   "metadata": {},
   "outputs": [
    {
     "data": {
      "text/html": [
       "<style>#sk-container-id-2 {color: black;background-color: white;}#sk-container-id-2 pre{padding: 0;}#sk-container-id-2 div.sk-toggleable {background-color: white;}#sk-container-id-2 label.sk-toggleable__label {cursor: pointer;display: block;width: 100%;margin-bottom: 0;padding: 0.3em;box-sizing: border-box;text-align: center;}#sk-container-id-2 label.sk-toggleable__label-arrow:before {content: \"▸\";float: left;margin-right: 0.25em;color: #696969;}#sk-container-id-2 label.sk-toggleable__label-arrow:hover:before {color: black;}#sk-container-id-2 div.sk-estimator:hover label.sk-toggleable__label-arrow:before {color: black;}#sk-container-id-2 div.sk-toggleable__content {max-height: 0;max-width: 0;overflow: hidden;text-align: left;background-color: #f0f8ff;}#sk-container-id-2 div.sk-toggleable__content pre {margin: 0.2em;color: black;border-radius: 0.25em;background-color: #f0f8ff;}#sk-container-id-2 input.sk-toggleable__control:checked~div.sk-toggleable__content {max-height: 200px;max-width: 100%;overflow: auto;}#sk-container-id-2 input.sk-toggleable__control:checked~label.sk-toggleable__label-arrow:before {content: \"▾\";}#sk-container-id-2 div.sk-estimator input.sk-toggleable__control:checked~label.sk-toggleable__label {background-color: #d4ebff;}#sk-container-id-2 div.sk-label input.sk-toggleable__control:checked~label.sk-toggleable__label {background-color: #d4ebff;}#sk-container-id-2 input.sk-hidden--visually {border: 0;clip: rect(1px 1px 1px 1px);clip: rect(1px, 1px, 1px, 1px);height: 1px;margin: -1px;overflow: hidden;padding: 0;position: absolute;width: 1px;}#sk-container-id-2 div.sk-estimator {font-family: monospace;background-color: #f0f8ff;border: 1px dotted black;border-radius: 0.25em;box-sizing: border-box;margin-bottom: 0.5em;}#sk-container-id-2 div.sk-estimator:hover {background-color: #d4ebff;}#sk-container-id-2 div.sk-parallel-item::after {content: \"\";width: 100%;border-bottom: 1px solid gray;flex-grow: 1;}#sk-container-id-2 div.sk-label:hover label.sk-toggleable__label {background-color: #d4ebff;}#sk-container-id-2 div.sk-serial::before {content: \"\";position: absolute;border-left: 1px solid gray;box-sizing: border-box;top: 0;bottom: 0;left: 50%;z-index: 0;}#sk-container-id-2 div.sk-serial {display: flex;flex-direction: column;align-items: center;background-color: white;padding-right: 0.2em;padding-left: 0.2em;position: relative;}#sk-container-id-2 div.sk-item {position: relative;z-index: 1;}#sk-container-id-2 div.sk-parallel {display: flex;align-items: stretch;justify-content: center;background-color: white;position: relative;}#sk-container-id-2 div.sk-item::before, #sk-container-id-2 div.sk-parallel-item::before {content: \"\";position: absolute;border-left: 1px solid gray;box-sizing: border-box;top: 0;bottom: 0;left: 50%;z-index: -1;}#sk-container-id-2 div.sk-parallel-item {display: flex;flex-direction: column;z-index: 1;position: relative;background-color: white;}#sk-container-id-2 div.sk-parallel-item:first-child::after {align-self: flex-end;width: 50%;}#sk-container-id-2 div.sk-parallel-item:last-child::after {align-self: flex-start;width: 50%;}#sk-container-id-2 div.sk-parallel-item:only-child::after {width: 0;}#sk-container-id-2 div.sk-dashed-wrapped {border: 1px dashed gray;margin: 0 0.4em 0.5em 0.4em;box-sizing: border-box;padding-bottom: 0.4em;background-color: white;}#sk-container-id-2 div.sk-label label {font-family: monospace;font-weight: bold;display: inline-block;line-height: 1.2em;}#sk-container-id-2 div.sk-label-container {text-align: center;}#sk-container-id-2 div.sk-container {/* jupyter's `normalize.less` sets `[hidden] { display: none; }` but bootstrap.min.css set `[hidden] { display: none !important; }` so we also need the `!important` here to be able to override the default hidden behavior on the sphinx rendered scikit-learn.org. See: https://github.com/scikit-learn/scikit-learn/issues/21755 */display: inline-block !important;position: relative;}#sk-container-id-2 div.sk-text-repr-fallback {display: none;}</style><div id=\"sk-container-id-2\" class=\"sk-top-container\"><div class=\"sk-text-repr-fallback\"><pre>TfidfVectorizer()</pre><b>In a Jupyter environment, please rerun this cell to show the HTML representation or trust the notebook. <br />On GitHub, the HTML representation is unable to render, please try loading this page with nbviewer.org.</b></div><div class=\"sk-container\" hidden><div class=\"sk-item\"><div class=\"sk-estimator sk-toggleable\"><input class=\"sk-toggleable__control sk-hidden--visually\" id=\"sk-estimator-id-2\" type=\"checkbox\" checked><label for=\"sk-estimator-id-2\" class=\"sk-toggleable__label sk-toggleable__label-arrow\">TfidfVectorizer</label><div class=\"sk-toggleable__content\"><pre>TfidfVectorizer()</pre></div></div></div></div></div>"
      ],
      "text/plain": [
       "TfidfVectorizer()"
      ]
     },
     "execution_count": 31,
     "metadata": {},
     "output_type": "execute_result"
    }
   ],
   "source": [
    "tfIdf=TfidfVectorizer()\n",
    "tfIdf.fit(cleandedX)"
   ]
  },
  {
   "cell_type": "code",
   "execution_count": 32,
   "metadata": {},
   "outputs": [],
   "source": [
    "vectorizedX=tfIdf.transform(cleandedX)"
   ]
  },
  {
   "cell_type": "code",
   "execution_count": null,
   "metadata": {},
   "outputs": [],
   "source": [
    "tfIdf.get_feature_names()"
   ]
  },
  {
   "cell_type": "markdown",
   "metadata": {},
   "source": [
    "#### machine learning model creation and parameter tuning "
   ]
  },
  {
   "cell_type": "code",
   "execution_count": 23,
   "metadata": {},
   "outputs": [],
   "source": [
    "from sklearn.ensemble import RandomForestClassifier\n",
    "from sklearn.model_selection import cross_val_score,GridSearchCV"
   ]
  },
  {
   "cell_type": "code",
   "execution_count": 24,
   "metadata": {},
   "outputs": [
    {
     "name": "stderr",
     "output_type": "stream",
     "text": [
      "c:\\Users\\Keerththanan\\MYPROGRAM\\lib\\site-packages\\sklearn\\model_selection\\_split.py:684: UserWarning: The least populated class in y has only 1 members, which is less than n_splits=4.\n",
      "  warnings.warn(\n"
     ]
    }
   ],
   "source": [
    "randomForestModel=RandomForestClassifier()\n",
    "score=cross_val_score(randomForestModel,vectorizedX,encodedY,cv=4)"
   ]
  },
  {
   "cell_type": "code",
   "execution_count": 25,
   "metadata": {},
   "outputs": [
    {
     "data": {
      "text/plain": [
       "array([0.51724138, 0.39285714, 0.32142857, 0.28571429])"
      ]
     },
     "execution_count": 25,
     "metadata": {},
     "output_type": "execute_result"
    }
   ],
   "source": [
    "score"
   ]
  },
  {
   "cell_type": "code",
   "execution_count": 26,
   "metadata": {},
   "outputs": [],
   "source": [
    "param_grid = {  'bootstrap': [True,False], 'max_depth': [5, 10, 15], 'max_features': ['auto', 'log2'], 'n_estimators': [5, 6, 7, 8, 9, 10, 11, 12, 13, 15,20,25,40]}\n",
    "\n",
    "gridSearch=GridSearchCV(randomForestModel,param_grid)"
   ]
  },
  {
   "cell_type": "code",
   "execution_count": null,
   "metadata": {},
   "outputs": [],
   "source": [
    "gridSearch.fit(vectorizedX,encodedY)"
   ]
  },
  {
   "cell_type": "code",
   "execution_count": 28,
   "metadata": {},
   "outputs": [
    {
     "data": {
      "text/plain": [
       "0.4320158102766799"
      ]
     },
     "execution_count": 28,
     "metadata": {},
     "output_type": "execute_result"
    }
   ],
   "source": [
    "gridSearch.best_score_"
   ]
  },
  {
   "cell_type": "code",
   "execution_count": 29,
   "metadata": {},
   "outputs": [
    {
     "data": {
      "text/html": [
       "<style>#sk-container-id-3 {color: black;background-color: white;}#sk-container-id-3 pre{padding: 0;}#sk-container-id-3 div.sk-toggleable {background-color: white;}#sk-container-id-3 label.sk-toggleable__label {cursor: pointer;display: block;width: 100%;margin-bottom: 0;padding: 0.3em;box-sizing: border-box;text-align: center;}#sk-container-id-3 label.sk-toggleable__label-arrow:before {content: \"▸\";float: left;margin-right: 0.25em;color: #696969;}#sk-container-id-3 label.sk-toggleable__label-arrow:hover:before {color: black;}#sk-container-id-3 div.sk-estimator:hover label.sk-toggleable__label-arrow:before {color: black;}#sk-container-id-3 div.sk-toggleable__content {max-height: 0;max-width: 0;overflow: hidden;text-align: left;background-color: #f0f8ff;}#sk-container-id-3 div.sk-toggleable__content pre {margin: 0.2em;color: black;border-radius: 0.25em;background-color: #f0f8ff;}#sk-container-id-3 input.sk-toggleable__control:checked~div.sk-toggleable__content {max-height: 200px;max-width: 100%;overflow: auto;}#sk-container-id-3 input.sk-toggleable__control:checked~label.sk-toggleable__label-arrow:before {content: \"▾\";}#sk-container-id-3 div.sk-estimator input.sk-toggleable__control:checked~label.sk-toggleable__label {background-color: #d4ebff;}#sk-container-id-3 div.sk-label input.sk-toggleable__control:checked~label.sk-toggleable__label {background-color: #d4ebff;}#sk-container-id-3 input.sk-hidden--visually {border: 0;clip: rect(1px 1px 1px 1px);clip: rect(1px, 1px, 1px, 1px);height: 1px;margin: -1px;overflow: hidden;padding: 0;position: absolute;width: 1px;}#sk-container-id-3 div.sk-estimator {font-family: monospace;background-color: #f0f8ff;border: 1px dotted black;border-radius: 0.25em;box-sizing: border-box;margin-bottom: 0.5em;}#sk-container-id-3 div.sk-estimator:hover {background-color: #d4ebff;}#sk-container-id-3 div.sk-parallel-item::after {content: \"\";width: 100%;border-bottom: 1px solid gray;flex-grow: 1;}#sk-container-id-3 div.sk-label:hover label.sk-toggleable__label {background-color: #d4ebff;}#sk-container-id-3 div.sk-serial::before {content: \"\";position: absolute;border-left: 1px solid gray;box-sizing: border-box;top: 0;bottom: 0;left: 50%;z-index: 0;}#sk-container-id-3 div.sk-serial {display: flex;flex-direction: column;align-items: center;background-color: white;padding-right: 0.2em;padding-left: 0.2em;position: relative;}#sk-container-id-3 div.sk-item {position: relative;z-index: 1;}#sk-container-id-3 div.sk-parallel {display: flex;align-items: stretch;justify-content: center;background-color: white;position: relative;}#sk-container-id-3 div.sk-item::before, #sk-container-id-3 div.sk-parallel-item::before {content: \"\";position: absolute;border-left: 1px solid gray;box-sizing: border-box;top: 0;bottom: 0;left: 50%;z-index: -1;}#sk-container-id-3 div.sk-parallel-item {display: flex;flex-direction: column;z-index: 1;position: relative;background-color: white;}#sk-container-id-3 div.sk-parallel-item:first-child::after {align-self: flex-end;width: 50%;}#sk-container-id-3 div.sk-parallel-item:last-child::after {align-self: flex-start;width: 50%;}#sk-container-id-3 div.sk-parallel-item:only-child::after {width: 0;}#sk-container-id-3 div.sk-dashed-wrapped {border: 1px dashed gray;margin: 0 0.4em 0.5em 0.4em;box-sizing: border-box;padding-bottom: 0.4em;background-color: white;}#sk-container-id-3 div.sk-label label {font-family: monospace;font-weight: bold;display: inline-block;line-height: 1.2em;}#sk-container-id-3 div.sk-label-container {text-align: center;}#sk-container-id-3 div.sk-container {/* jupyter's `normalize.less` sets `[hidden] { display: none; }` but bootstrap.min.css set `[hidden] { display: none !important; }` so we also need the `!important` here to be able to override the default hidden behavior on the sphinx rendered scikit-learn.org. See: https://github.com/scikit-learn/scikit-learn/issues/21755 */display: inline-block !important;position: relative;}#sk-container-id-3 div.sk-text-repr-fallback {display: none;}</style><div id=\"sk-container-id-3\" class=\"sk-top-container\"><div class=\"sk-text-repr-fallback\"><pre>RandomForestClassifier(max_depth=10, max_features=&#x27;auto&#x27;, n_estimators=40)</pre><b>In a Jupyter environment, please rerun this cell to show the HTML representation or trust the notebook. <br />On GitHub, the HTML representation is unable to render, please try loading this page with nbviewer.org.</b></div><div class=\"sk-container\" hidden><div class=\"sk-item\"><div class=\"sk-estimator sk-toggleable\"><input class=\"sk-toggleable__control sk-hidden--visually\" id=\"sk-estimator-id-5\" type=\"checkbox\" checked><label for=\"sk-estimator-id-5\" class=\"sk-toggleable__label sk-toggleable__label-arrow\">RandomForestClassifier</label><div class=\"sk-toggleable__content\"><pre>RandomForestClassifier(max_depth=10, max_features=&#x27;auto&#x27;, n_estimators=40)</pre></div></div></div></div></div>"
      ],
      "text/plain": [
       "RandomForestClassifier(max_depth=10, max_features='auto', n_estimators=40)"
      ]
     },
     "execution_count": 29,
     "metadata": {},
     "output_type": "execute_result"
    }
   ],
   "source": [
    "gridSearch.best_estimator_"
   ]
  },
  {
   "cell_type": "markdown",
   "metadata": {},
   "source": [
    "#### DeepLearning Model"
   ]
  },
  {
   "cell_type": "code",
   "execution_count": 28,
   "metadata": {},
   "outputs": [],
   "source": [
    "import tensorflow as tf"
   ]
  },
  {
   "cell_type": "code",
   "execution_count": 29,
   "metadata": {},
   "outputs": [],
   "source": [
    "oov_token='<OOV>'\n",
    "Tokenizer=tf.keras.preprocessing.text.Tokenizer(oov_token=oov_token)"
   ]
  },
  {
   "cell_type": "markdown",
   "metadata": {},
   "source": []
  },
  {
   "cell_type": "code",
   "execution_count": 30,
   "metadata": {},
   "outputs": [],
   "source": [
    "Tokenizer.fit_on_texts(cleandedX)"
   ]
  },
  {
   "cell_type": "code",
   "execution_count": 31,
   "metadata": {},
   "outputs": [
    {
     "data": {
      "text/plain": [
       "117"
      ]
     },
     "execution_count": 31,
     "metadata": {},
     "output_type": "execute_result"
    }
   ],
   "source": [
    "len(Tokenizer.word_index)"
   ]
  },
  {
   "cell_type": "code",
   "execution_count": 32,
   "metadata": {},
   "outputs": [],
   "source": [
    "TrainSeq=Tokenizer.texts_to_sequences(cleandedX)"
   ]
  },
  {
   "cell_type": "code",
   "execution_count": 33,
   "metadata": {},
   "outputs": [],
   "source": [
    "Trainpad=tf.keras.preprocessing.sequence.pad_sequences(TrainSeq,padding='post')"
   ]
  },
  {
   "cell_type": "code",
   "execution_count": 34,
   "metadata": {},
   "outputs": [
    {
     "data": {
      "text/plain": [
       "(113, 6)"
      ]
     },
     "execution_count": 34,
     "metadata": {},
     "output_type": "execute_result"
    }
   ],
   "source": [
    "Trainpad.shape"
   ]
  },
  {
   "cell_type": "code",
   "execution_count": 58,
   "metadata": {},
   "outputs": [],
   "source": [
    "deepModel=tf.keras.models.Sequential([\n",
    "    tf.keras.layers.Embedding(len(Tokenizer.word_index)+1,32,input_length=Trainpad.shape[1]),\n",
    "    tf.keras.layers.Bidirectional(tf.keras.layers.LSTM(100,dropout=0.2,return_sequences=True)),\n",
    "    tf.keras.layers.Bidirectional(tf.keras.layers.LSTM(100,dropout=0.2,return_sequences=False)),\n",
    "    tf.keras.layers.Flatten(),\n",
    "    tf.keras.layers.Dense(50,activation='relu'),\n",
    "    tf.keras.layers.Dropout(0.01),\n",
    "    tf.keras.layers.Dense(20, activation = \"relu\"),\n",
    "    tf.keras.layers.Dense(31,activation='softmax')\n",
    "    \n",
    "])\n"
   ]
  },
  {
   "cell_type": "code",
   "execution_count": 59,
   "metadata": {},
   "outputs": [
    {
     "name": "stdout",
     "output_type": "stream",
     "text": [
      "Model: \"sequential_6\"\n",
      "_________________________________________________________________\n",
      " Layer (type)                Output Shape              Param #   \n",
      "=================================================================\n",
      " embedding_4 (Embedding)     (None, 6, 32)             3776      \n",
      "                                                                 \n",
      " bidirectional_8 (Bidirectio  (None, 6, 200)           106400    \n",
      " nal)                                                            \n",
      "                                                                 \n",
      " bidirectional_9 (Bidirectio  (None, 200)              240800    \n",
      " nal)                                                            \n",
      "                                                                 \n",
      " flatten_4 (Flatten)         (None, 200)               0         \n",
      "                                                                 \n",
      " dense_19 (Dense)            (None, 50)                10050     \n",
      "                                                                 \n",
      " dropout_7 (Dropout)         (None, 50)                0         \n",
      "                                                                 \n",
      " dense_20 (Dense)            (None, 20)                1020      \n",
      "                                                                 \n",
      " dense_21 (Dense)            (None, 31)                651       \n",
      "                                                                 \n",
      "=================================================================\n",
      "Total params: 362,697\n",
      "Trainable params: 362,697\n",
      "Non-trainable params: 0\n",
      "_________________________________________________________________\n"
     ]
    }
   ],
   "source": [
    "deepModel.summary()"
   ]
  },
  {
   "cell_type": "code",
   "execution_count": 60,
   "metadata": {},
   "outputs": [],
   "source": [
    "deepModel.compile(optimizer='adam',loss='sparse_categorical_crossentropy',metrics=['accuracy'])"
   ]
  },
  {
   "cell_type": "code",
   "execution_count": 61,
   "metadata": {},
   "outputs": [],
   "source": [
    "encodedNY=np.array(encodedY)"
   ]
  },
  {
   "cell_type": "code",
   "execution_count": 62,
   "metadata": {},
   "outputs": [],
   "source": [
    "from sklearn.model_selection import train_test_split\n",
    "X_train,X_test,Y_train,Y_test=train_test_split(Trainpad,encodedNY,test_size=0.3,random_state=0)"
   ]
  },
  {
   "cell_type": "code",
   "execution_count": 63,
   "metadata": {},
   "outputs": [
    {
     "name": "stdout",
     "output_type": "stream",
     "text": [
      "Epoch 1/60\n",
      "4/4 [==============================] - 7s 30ms/step - loss: 3.4334 - accuracy: 0.0088\n",
      "Epoch 2/60\n",
      "4/4 [==============================] - 0s 30ms/step - loss: 3.4284 - accuracy: 0.0177\n",
      "Epoch 3/60\n",
      "4/4 [==============================] - 0s 30ms/step - loss: 3.4215 - accuracy: 0.0265\n",
      "Epoch 4/60\n",
      "4/4 [==============================] - 0s 30ms/step - loss: 3.4103 - accuracy: 0.0354\n",
      "Epoch 5/60\n",
      "4/4 [==============================] - 0s 27ms/step - loss: 3.4016 - accuracy: 0.0177\n",
      "Epoch 6/60\n",
      "4/4 [==============================] - 0s 27ms/step - loss: 3.3889 - accuracy: 0.0354\n",
      "Epoch 7/60\n",
      "4/4 [==============================] - 0s 27ms/step - loss: 3.3795 - accuracy: 0.0354\n",
      "Epoch 8/60\n",
      "4/4 [==============================] - 0s 30ms/step - loss: 3.3570 - accuracy: 0.0354\n",
      "Epoch 9/60\n",
      "4/4 [==============================] - 0s 27ms/step - loss: 3.3286 - accuracy: 0.0354\n",
      "Epoch 10/60\n",
      "4/4 [==============================] - 0s 30ms/step - loss: 3.2833 - accuracy: 0.0531\n",
      "Epoch 11/60\n",
      "4/4 [==============================] - 0s 30ms/step - loss: 3.1799 - accuracy: 0.0708\n",
      "Epoch 12/60\n",
      "4/4 [==============================] - 0s 28ms/step - loss: 3.0995 - accuracy: 0.0885\n",
      "Epoch 13/60\n",
      "4/4 [==============================] - 0s 30ms/step - loss: 2.9733 - accuracy: 0.1150\n",
      "Epoch 14/60\n",
      "4/4 [==============================] - 0s 31ms/step - loss: 2.9038 - accuracy: 0.1239\n",
      "Epoch 15/60\n",
      "4/4 [==============================] - 0s 27ms/step - loss: 2.7880 - accuracy: 0.1239\n",
      "Epoch 16/60\n",
      "4/4 [==============================] - 0s 27ms/step - loss: 2.6911 - accuracy: 0.1504\n",
      "Epoch 17/60\n",
      "4/4 [==============================] - 0s 27ms/step - loss: 2.5780 - accuracy: 0.1593\n",
      "Epoch 18/60\n",
      "4/4 [==============================] - 0s 27ms/step - loss: 2.5146 - accuracy: 0.2035\n",
      "Epoch 19/60\n",
      "4/4 [==============================] - 0s 27ms/step - loss: 2.4622 - accuracy: 0.1858\n",
      "Epoch 20/60\n",
      "4/4 [==============================] - 0s 30ms/step - loss: 2.3503 - accuracy: 0.2124\n",
      "Epoch 21/60\n",
      "4/4 [==============================] - 0s 30ms/step - loss: 2.3038 - accuracy: 0.2389\n",
      "Epoch 22/60\n",
      "4/4 [==============================] - 0s 30ms/step - loss: 2.2436 - accuracy: 0.2655\n",
      "Epoch 23/60\n",
      "4/4 [==============================] - 0s 30ms/step - loss: 2.1198 - accuracy: 0.2920\n",
      "Epoch 24/60\n",
      "4/4 [==============================] - 0s 30ms/step - loss: 2.0553 - accuracy: 0.3451\n",
      "Epoch 25/60\n",
      "4/4 [==============================] - 0s 30ms/step - loss: 2.0213 - accuracy: 0.3274\n",
      "Epoch 26/60\n",
      "4/4 [==============================] - 0s 28ms/step - loss: 1.9452 - accuracy: 0.3274\n",
      "Epoch 27/60\n",
      "4/4 [==============================] - 0s 28ms/step - loss: 1.8694 - accuracy: 0.3540\n",
      "Epoch 28/60\n",
      "4/4 [==============================] - 0s 27ms/step - loss: 1.7930 - accuracy: 0.4071\n",
      "Epoch 29/60\n",
      "4/4 [==============================] - 0s 27ms/step - loss: 1.7419 - accuracy: 0.4425\n",
      "Epoch 30/60\n",
      "4/4 [==============================] - 0s 30ms/step - loss: 1.6685 - accuracy: 0.3628\n",
      "Epoch 31/60\n",
      "4/4 [==============================] - 0s 30ms/step - loss: 1.7615 - accuracy: 0.3982\n",
      "Epoch 32/60\n",
      "4/4 [==============================] - 0s 27ms/step - loss: 1.6249 - accuracy: 0.4779\n",
      "Epoch 33/60\n",
      "4/4 [==============================] - 0s 28ms/step - loss: 1.5655 - accuracy: 0.5133\n",
      "Epoch 34/60\n",
      "4/4 [==============================] - 0s 30ms/step - loss: 1.4718 - accuracy: 0.4867\n",
      "Epoch 35/60\n",
      "4/4 [==============================] - 0s 27ms/step - loss: 1.5135 - accuracy: 0.4690\n",
      "Epoch 36/60\n",
      "4/4 [==============================] - 0s 27ms/step - loss: 1.3856 - accuracy: 0.5487\n",
      "Epoch 37/60\n",
      "4/4 [==============================] - 0s 30ms/step - loss: 1.4066 - accuracy: 0.5310\n",
      "Epoch 38/60\n",
      "4/4 [==============================] - 0s 30ms/step - loss: 1.3778 - accuracy: 0.5133\n",
      "Epoch 39/60\n",
      "4/4 [==============================] - 0s 33ms/step - loss: 1.3832 - accuracy: 0.4956\n",
      "Epoch 40/60\n",
      "4/4 [==============================] - 0s 27ms/step - loss: 1.2307 - accuracy: 0.5575\n",
      "Epoch 41/60\n",
      "4/4 [==============================] - 0s 30ms/step - loss: 1.2543 - accuracy: 0.5841\n",
      "Epoch 42/60\n",
      "4/4 [==============================] - 0s 30ms/step - loss: 1.1422 - accuracy: 0.6372\n",
      "Epoch 43/60\n",
      "4/4 [==============================] - 0s 30ms/step - loss: 1.1041 - accuracy: 0.6283\n",
      "Epoch 44/60\n",
      "4/4 [==============================] - 0s 28ms/step - loss: 1.0691 - accuracy: 0.6903\n",
      "Epoch 45/60\n",
      "4/4 [==============================] - 0s 30ms/step - loss: 1.0602 - accuracy: 0.6726\n",
      "Epoch 46/60\n",
      "4/4 [==============================] - 0s 31ms/step - loss: 1.0043 - accuracy: 0.6637\n",
      "Epoch 47/60\n",
      "4/4 [==============================] - 0s 30ms/step - loss: 0.9363 - accuracy: 0.6903\n",
      "Epoch 48/60\n",
      "4/4 [==============================] - 0s 27ms/step - loss: 0.9388 - accuracy: 0.6549\n",
      "Epoch 49/60\n",
      "4/4 [==============================] - 0s 27ms/step - loss: 0.8829 - accuracy: 0.6903\n",
      "Epoch 50/60\n",
      "4/4 [==============================] - 0s 27ms/step - loss: 0.7992 - accuracy: 0.7345\n",
      "Epoch 51/60\n",
      "4/4 [==============================] - 0s 28ms/step - loss: 0.7211 - accuracy: 0.7257\n",
      "Epoch 52/60\n",
      "4/4 [==============================] - 0s 30ms/step - loss: 0.7169 - accuracy: 0.7434\n",
      "Epoch 53/60\n",
      "4/4 [==============================] - 0s 30ms/step - loss: 0.7081 - accuracy: 0.7168\n",
      "Epoch 54/60\n",
      "4/4 [==============================] - 0s 27ms/step - loss: 0.6386 - accuracy: 0.7788\n",
      "Epoch 55/60\n",
      "4/4 [==============================] - 0s 30ms/step - loss: 0.6937 - accuracy: 0.7611\n",
      "Epoch 56/60\n",
      "4/4 [==============================] - 0s 27ms/step - loss: 0.6631 - accuracy: 0.7876\n",
      "Epoch 57/60\n",
      "4/4 [==============================] - 0s 27ms/step - loss: 0.5730 - accuracy: 0.8053\n",
      "Epoch 58/60\n",
      "4/4 [==============================] - 0s 30ms/step - loss: 0.5199 - accuracy: 0.8319\n",
      "Epoch 59/60\n",
      "4/4 [==============================] - 0s 30ms/step - loss: 0.4715 - accuracy: 0.8496\n",
      "Epoch 60/60\n",
      "4/4 [==============================] - 0s 27ms/step - loss: 0.4861 - accuracy: 0.9115\n"
     ]
    }
   ],
   "source": [
    "history=deepModel.fit(Trainpad,encodedNY,epochs=60)"
   ]
  },
  {
   "cell_type": "code",
   "execution_count": 64,
   "metadata": {},
   "outputs": [],
   "source": [
    "deepModel.save('deepModel.h5')"
   ]
  },
  {
   "cell_type": "markdown",
   "metadata": {},
   "source": [
    "#### Testing the model"
   ]
  },
  {
   "cell_type": "code",
   "execution_count": 74,
   "metadata": {},
   "outputs": [],
   "source": [
    "import random"
   ]
  },
  {
   "cell_type": "code",
   "execution_count": 87,
   "metadata": {},
   "outputs": [
    {
     "name": "stdout",
     "output_type": "stream",
     "text": [
      "1/1 [==============================] - 0s 23ms/step\n"
     ]
    },
    {
     "data": {
      "text/plain": [
       "'Good to know!'"
      ]
     },
     "execution_count": 87,
     "metadata": {},
     "output_type": "execute_result"
    }
   ],
   "source": [
    "query='good morning'\n",
    "query=cleanText(query)\n",
    "seq=Tokenizer.texts_to_sequences([query])\n",
    "padSeq=tf.keras.preprocessing.sequence.pad_sequences(seq,padding='post',maxlen=6)\n",
    "output=deepModel.predict(padSeq)\n",
    "response=Encoder.inverse_transform([output.argmax()])\n",
    "random.choice(dictionary_tag_response[response[0]])\n"
   ]
  },
  {
   "cell_type": "code",
   "execution_count": null,
   "metadata": {},
   "outputs": [],
   "source": []
  }
 ],
 "metadata": {
  "kernelspec": {
   "display_name": "Python 3.10.6 64-bit",
   "language": "python",
   "name": "python3"
  },
  "language_info": {
   "codemirror_mode": {
    "name": "ipython",
    "version": 3
   },
   "file_extension": ".py",
   "mimetype": "text/x-python",
   "name": "python",
   "nbconvert_exporter": "python",
   "pygments_lexer": "ipython3",
   "version": "3.10.6"
  },
  "orig_nbformat": 4,
  "vscode": {
   "interpreter": {
    "hash": "c2ac9b41fb94caaff876198161de83c314dee63f4c1e841674908f5c2c57d3c9"
   }
  }
 },
 "nbformat": 4,
 "nbformat_minor": 2
}
